{
 "cells": [
  {
   "cell_type": "code",
   "execution_count": 39,
   "metadata": {},
   "outputs": [],
   "source": [
    "%matplotlib inline\n",
    "\n",
    "import sqlite3\n",
    "import pandas as pd\n",
    "import numpy as np\n",
    "import nltk\n",
    "import string\n",
    "import matplotlib.pyplot as plt\n",
    "import numpy as np\n",
    "import os\n",
    "import random\n",
    "import re\n",
    "\n",
    "import functools\n",
    "from keras import backend as K\n",
    "    \n",
    "import tensorflow as tf\n",
    "from tensorflow.python.keras.preprocessing.sequence import pad_sequences \n",
    "from tensorflow.python.keras.preprocessing.text import Tokenizer\n",
    "\n",
    "from keras.models import Sequential\n",
    "from keras.layers import Dense, Embedding, LSTM, Dropout, Conv1D, MaxPooling1D,Flatten\n",
    "from keras.optimizers import Adam\n",
    "from keras.initializers import Constant\n",
    "\n",
    "from sklearn.model_selection import train_test_split\n",
    "\n",
    "import nltk\n",
    "from nltk import pos_tag\n",
    "from nltk.tokenize import word_tokenize\n",
    "from nltk.stem import WordNetLemmatizer\n",
    "from nltk.corpus import stopwords\n",
    "import gensim"
   ]
  },
  {
   "cell_type": "code",
   "execution_count": 40,
   "metadata": {},
   "outputs": [],
   "source": [
    "data = pd.read_csv('data/Reviews.csv', encoding=\"utf-8\",nrows=50000)\n",
    "data = data.reindex(np.random.permutation(data.index))"
   ]
  },
  {
   "cell_type": "code",
   "execution_count": 41,
   "metadata": {},
   "outputs": [
    {
     "data": {
      "text/plain": [
       "50000"
      ]
     },
     "execution_count": 41,
     "metadata": {},
     "output_type": "execute_result"
    }
   ],
   "source": [
    "len(data)"
   ]
  },
  {
   "cell_type": "code",
   "execution_count": 42,
   "metadata": {},
   "outputs": [],
   "source": [
    "reviews_text = data[\"Text\"].values\n",
    "reviews_rating = data[\"Score\"].values"
   ]
  },
  {
   "cell_type": "code",
   "execution_count": 43,
   "metadata": {},
   "outputs": [],
   "source": [
    "stop_words = set(stopwords.words('english'))\n",
    "lemmatiser = WordNetLemmatizer()"
   ]
  },
  {
   "cell_type": "code",
   "execution_count": 44,
   "metadata": {},
   "outputs": [],
   "source": [
    "def get_wordnet_pos(pos_tag):\n",
    "    if pos_tag.startswith('J'):  \n",
    "        return 'a' # adjective\n",
    "    elif pos_tag.startswith('V'): \n",
    "        return 'v' # verb\n",
    "    elif pos_tag.startswith('R'):\n",
    "        return 'r' # adverb\n",
    "    else:           \n",
    "        return 'n' # fallback to noun"
   ]
  },
  {
   "cell_type": "code",
   "execution_count": 45,
   "metadata": {},
   "outputs": [],
   "source": [
    "def preprocess_text(text):\n",
    "    text = text.lower()\n",
    "    text = re.sub(r'<.*?>',\"\",text)\n",
    "    text = re.sub('[^a-z0-9 \\.]', '', text)\n",
    "    words = word_tokenize(text) \n",
    "    words = [w for w in words if w ==\"not\" or not w in stop_words ]\n",
    "    words_pos = pos_tag(words) \n",
    "    lemmatized_words = []\n",
    "    \n",
    "    for word, tag in words_pos:\n",
    "        pos = get_wordnet_pos(tag)\n",
    "        lemmatized_word = lemmatiser.lemmatize(word, pos=pos)\n",
    "        lemmatized_words.append(lemmatized_word)\n",
    "    \n",
    "    text = \" \".join(lemmatized_words)\n",
    "    return text"
   ]
  },
  {
   "cell_type": "code",
   "execution_count": 72,
   "metadata": {},
   "outputs": [],
   "source": [
    "def plot(history,loss,accuracy):\n",
    "    \n",
    "    plt.plot(history.history['loss'])\n",
    "    plt.plot(history.history['val_loss'])\n",
    "    plt.title('Model Loss')\n",
    "    plt.ylabel('Loss')\n",
    "    plt.xlabel('Epochs')\n",
    "    plt.legend(['Training', 'Validation'], loc='best')\n",
    "    plt.show()\n",
    "\n",
    "    plt.plot(history.history['accuracy'])\n",
    "    plt.plot(history.history['val_accuracy'])\n",
    "    plt.title('Model Accuracy')\n",
    "    plt.ylabel('Accuracy')\n",
    "    plt.xlabel('Epochs')\n",
    "    plt.legend(['Training', 'Validation'], loc='best')\n",
    "    plt.show()\n",
    "\n",
    "    print()\n",
    "    print(f'Test loss: {loss:.3}')\n",
    "    print(f'Test accuracy: {accuracy:.3}')"
   ]
  },
  {
   "cell_type": "code",
   "execution_count": 73,
   "metadata": {},
   "outputs": [],
   "source": [
    "def create(tokenizer,embedding_matrix,EMBEDDING_DIM=100):\n",
    "    model = Sequential()\n",
    "    embedding_layer = Embedding(len(tokenizer.word_index)+1,\n",
    "                            EMBEDDING_DIM,\n",
    "                            embeddings_initializer=Constant(embedding_matrix),\n",
    "                            input_length=100,\n",
    "                            trainable=False)\n",
    "    \n",
    "    model.add(embedding_layer)\n",
    "    model.add(Dropout(0.6))\n",
    "    model.add(Conv1D(16, 5, padding='Same', activation='relu'))\n",
    "    model.add(MaxPooling1D())\n",
    "    model.add(Dropout(0.8))\n",
    "    \n",
    "    model.add(Conv1D(64, 4,padding='Same', activation='relu'))\n",
    "    model.add(MaxPooling1D())\n",
    "    model.add(Dropout(0.8))\n",
    "    \n",
    "    model.add(Conv1D(64, 3,padding='Same', activation='relu'))\n",
    "    model.add(MaxPooling1D())\n",
    "    model.add(Dropout(0.8))\n",
    "    \n",
    "    model.add(Flatten())\n",
    "    model.add(Dense(512,activation='relu'))\n",
    "    model.add(Dense(1, activation='sigmoid'))\n",
    "        \n",
    "    optimizer = Adam(lr=1e-3, beta_1=0.9, beta_2=0.999, epsilon=1e-08, decay=0.0, amsgrad=False)\n",
    "    model.compile(optimizer=optimizer, loss='binary_crossentropy', metrics=['accuracy'])\n",
    "    model.summary()\n",
    "    \n",
    "    return model"
   ]
  },
  {
   "cell_type": "code",
   "execution_count": 74,
   "metadata": {},
   "outputs": [],
   "source": [
    "def create2(tokenizer,embedding_matrix,EMBEDDING_DIM=100):\n",
    "    model = Sequential()\n",
    "    embedding_layer = Embedding(len(tokenizer.word_index)+1,\n",
    "                            EMBEDDING_DIM,\n",
    "                            embeddings_initializer=Constant(embedding_matrix),\n",
    "                            input_length=100,\n",
    "                            trainable=False)\n",
    "    \n",
    "    model.add(embedding_layer)\n",
    "    model.add(Dropout(0.6))\n",
    "    model.add(Conv1D(16, 5, padding='Same', activation='relu'))\n",
    "    model.add(MaxPooling1D())\n",
    " \n",
    "    \n",
    "    model.add(Conv1D(64, 4,padding='Same', activation='relu'))\n",
    "    model.add(MaxPooling1D())\n",
    "    model.add(BatchNormalization())\n",
    "    \n",
    "    model.add(Conv1D(64, 3,padding='Same', activation='relu'))\n",
    "    model.add(MaxPooling1D())\n",
    "    model.add(BatchNormalization())\n",
    "    \n",
    "    model.add(Flatten())\n",
    "    model.add(Dense(512,activation='relu'))\n",
    "    model.add(Dense(1, activation='sigmoid'))\n",
    "        \n",
    "    optimizer = Adam(lr=1e-3, beta_1=0.9, beta_2=0.999, epsilon=1e-08, decay=0.0, amsgrad=False)\n",
    "    model.compile(optimizer=optimizer, loss='binary_crossentropy', metrics=['accuracy'])\n",
    "    model.summary()\n",
    "    \n",
    "    return model"
   ]
  },
  {
   "cell_type": "code",
   "execution_count": 75,
   "metadata": {},
   "outputs": [],
   "source": [
    "def evaluate(model,x_train,y_train,x_test,y_test,batch_size=128,epochs=20):\n",
    "    history = model.fit(x_train, y_train, batch_size=batch_size, epochs=epochs, validation_split=.2)\n",
    "    loss, accuracy  = model.evaluate(x_test, y_test, verbose=True,batch_size=batch_size)\n",
    "    plot(history,loss,accuracy)"
   ]
  },
  {
   "cell_type": "code",
   "execution_count": 50,
   "metadata": {},
   "outputs": [],
   "source": [
    "SIZE = reviews_text.size\n",
    "reviews = []\n",
    "labels = np.zeros(SIZE)\n",
    "\n",
    "for i in range(SIZE):\n",
    "    text = str(reviews_text[i])\n",
    "    rating = reviews_rating[i]\n",
    "    review = text\n",
    "    review = preprocess_text(review)\n",
    "    reviews.append(review)\n",
    "    if(rating > 3.0):\n",
    "        labels[i] = 1"
   ]
  },
  {
   "cell_type": "code",
   "execution_count": 51,
   "metadata": {},
   "outputs": [],
   "source": [
    "x_train,x_test,y_train,y_test = train_test_split(reviews,labels,test_size=0.2,random_state=42)"
   ]
  },
  {
   "cell_type": "code",
   "execution_count": 52,
   "metadata": {},
   "outputs": [],
   "source": [
    "tokenizer = Tokenizer(num_words=20000)\n",
    "tokenizer.fit_on_texts(x_train)\n",
    "x_train = tokenizer.texts_to_sequences(x_train)\n",
    "x_test = tokenizer.texts_to_sequences(x_test)\n",
    "# Fix sequence length to MAX_SEQUENCE_LENGTH. Sequences shorter than the length are\n",
    "# padded and sequences longer are truncated\n",
    "x_train = pad_sequences(x_train, maxlen=60, padding='post')\n",
    "x_test = pad_sequences(x_test, maxlen=60, padding='post')"
   ]
  },
  {
   "cell_type": "code",
   "execution_count": 53,
   "metadata": {},
   "outputs": [],
   "source": [
    "embeddings_index = {}\n",
    "f = open('data/glove.6B.100d.txt', encoding = \"utf-8\")\n",
    "\n",
    "for line in f:\n",
    "    values = line.split()\n",
    "    word = values[0]\n",
    "    coefs = np.asarray(values[1:])\n",
    "    embeddings_index[word] = coefs\n",
    "f.close()"
   ]
  },
  {
   "cell_type": "code",
   "execution_count": 54,
   "metadata": {},
   "outputs": [],
   "source": [
    "EMBEDDING_DIM = 100\n",
    "num_words = len(tokenizer.word_index)+1\n",
    "embedding_matrix = np.zeros((num_words, EMBEDDING_DIM))\n",
    "\n",
    "for word, i in tokenizer.word_index.items():\n",
    "    if i > num_words:\n",
    "        continue\n",
    "    embedding_vector = embeddings_index.get(word)\n",
    "    if embedding_vector is not None:\n",
    "        embedding_matrix[i] = embedding_vector\n",
    "    else:\n",
    "        embedding_matrix[i] = np.random.uniform(-0.5,0.5,100)"
   ]
  },
  {
   "cell_type": "code",
   "execution_count": 55,
   "metadata": {},
   "outputs": [],
   "source": [
    "def average_embedding(x_data):\n",
    "    average_embedding_matrix = np.zeros((x_data.shape[0], EMBEDDING_DIM))\n",
    "    for idx, embedding_vector in enumerate(x_data):\n",
    "        average_embedding_vector = np.zeros((EMBEDDING_DIM, ))\n",
    "        for token_index in embedding_vector:\n",
    "            average_embedding_vector += embedding_matrix[token_index]\n",
    "        average_embedding_vector /= len(embedding_vector)\n",
    "        average_embedding_matrix[idx] = average_embedding_vector\n",
    "    return average_embedding_matrix"
   ]
  },
  {
   "cell_type": "code",
   "execution_count": 56,
   "metadata": {},
   "outputs": [],
   "source": [
    "x_train = average_embedding(x_train)\n",
    "x_test = average_embedding(x_test)"
   ]
  },
  {
   "cell_type": "code",
   "execution_count": 77,
   "metadata": {},
   "outputs": [
    {
     "name": "stdout",
     "output_type": "stream",
     "text": [
      "Model: \"sequential_9\"\n",
      "_________________________________________________________________\n",
      "Layer (type)                 Output Shape              Param #   \n",
      "=================================================================\n",
      "embedding_9 (Embedding)      (None, 100, 100)          4585800   \n",
      "_________________________________________________________________\n",
      "dropout_33 (Dropout)         (None, 100, 100)          0         \n",
      "_________________________________________________________________\n",
      "conv1d_25 (Conv1D)           (None, 100, 16)           8016      \n",
      "_________________________________________________________________\n",
      "max_pooling1d_25 (MaxPooling (None, 50, 16)            0         \n",
      "_________________________________________________________________\n",
      "dropout_34 (Dropout)         (None, 50, 16)            0         \n",
      "_________________________________________________________________\n",
      "conv1d_26 (Conv1D)           (None, 50, 64)            4160      \n",
      "_________________________________________________________________\n",
      "max_pooling1d_26 (MaxPooling (None, 25, 64)            0         \n",
      "_________________________________________________________________\n",
      "dropout_35 (Dropout)         (None, 25, 64)            0         \n",
      "_________________________________________________________________\n",
      "conv1d_27 (Conv1D)           (None, 25, 64)            12352     \n",
      "_________________________________________________________________\n",
      "max_pooling1d_27 (MaxPooling (None, 12, 64)            0         \n",
      "_________________________________________________________________\n",
      "dropout_36 (Dropout)         (None, 12, 64)            0         \n",
      "_________________________________________________________________\n",
      "flatten_9 (Flatten)          (None, 768)               0         \n",
      "_________________________________________________________________\n",
      "dense_17 (Dense)             (None, 512)               393728    \n",
      "_________________________________________________________________\n",
      "dense_18 (Dense)             (None, 1)                 513       \n",
      "=================================================================\n",
      "Total params: 5,004,569\n",
      "Trainable params: 418,769\n",
      "Non-trainable params: 4,585,800\n",
      "_________________________________________________________________\n",
      "Train on 32000 samples, validate on 8000 samples\n",
      "Epoch 1/10\n",
      "32000/32000 [==============================] - 4s 128us/step - loss: 0.5512 - accuracy: 0.7649 - val_loss: 0.5503 - val_accuracy: 0.7665\n",
      "Epoch 2/10\n",
      "32000/32000 [==============================] - 3s 95us/step - loss: 0.5415 - accuracy: 0.7694 - val_loss: 0.5455 - val_accuracy: 0.7665\n",
      "Epoch 3/10\n",
      "32000/32000 [==============================] - 3s 98us/step - loss: 0.5412 - accuracy: 0.7695 - val_loss: 0.5432 - val_accuracy: 0.7665\n",
      "Epoch 4/10\n",
      "32000/32000 [==============================] - 3s 98us/step - loss: 0.5399 - accuracy: 0.7696 - val_loss: 0.5454 - val_accuracy: 0.7665\n",
      "Epoch 5/10\n",
      "32000/32000 [==============================] - 3s 100us/step - loss: 0.5395 - accuracy: 0.7696 - val_loss: 0.5429 - val_accuracy: 0.7665\n",
      "Epoch 6/10\n",
      "32000/32000 [==============================] - 3s 98us/step - loss: 0.5399 - accuracy: 0.7698 - val_loss: 0.5432 - val_accuracy: 0.7665\n",
      "Epoch 7/10\n",
      "32000/32000 [==============================] - 3s 97us/step - loss: 0.5392 - accuracy: 0.7697 - val_loss: 0.5426 - val_accuracy: 0.7665\n",
      "Epoch 8/10\n",
      "32000/32000 [==============================] - 3s 97us/step - loss: 0.5385 - accuracy: 0.7698 - val_loss: 0.5422 - val_accuracy: 0.7665\n",
      "Epoch 9/10\n",
      "32000/32000 [==============================] - 3s 97us/step - loss: 0.5389 - accuracy: 0.7697 - val_loss: 0.5430 - val_accuracy: 0.7665\n",
      "Epoch 10/10\n",
      "32000/32000 [==============================] - 3s 99us/step - loss: 0.5390 - accuracy: 0.7698 - val_loss: 0.5426 - val_accuracy: 0.7665\n",
      "10000/10000 [==============================] - 0s 37us/step\n"
     ]
    },
    {
     "data": {
      "image/png": "[encoded data removed]",
      "text/plain": [
       "<Figure size 432x288 with 1 Axes>"
      ]
     },
     "metadata": {
      "needs_background": "light"
     },
     "output_type": "display_data"
    },
    {
     "data": {
      "image/png": "[encoded data removed]",
      "text/plain": [
       "<Figure size 432x288 with 1 Axes>"
      ]
     },
     "metadata": {
      "needs_background": "light"
     },
     "output_type": "display_data"
    },
    {
     "name": "stdout",
     "output_type": "stream",
     "text": [
      "\n",
      "Test loss: 0.544\n",
      "Test accuracy: 0.765\n"
     ]
    }
   ],
   "source": [
    "model = create(tokenizer,embedding_matrix)\n",
    "evaluate(model,x_train,y_train,x_test,y_test,batch_size=128,epochs=10)"
   ]
  },
  {
   "cell_type": "code",
   "execution_count": 79,
   "metadata": {},
   "outputs": [
    {
     "name": "stdout",
     "output_type": "stream",
     "text": [
      "Model: \"sequential_11\"\n",
      "_________________________________________________________________\n",
      "Layer (type)                 Output Shape              Param #   \n",
      "=================================================================\n",
      "embedding_11 (Embedding)     (None, 100, 100)          4585800   \n",
      "_________________________________________________________________\n",
      "dropout_41 (Dropout)         (None, 100, 100)          0         \n",
      "_________________________________________________________________\n",
      "conv1d_31 (Conv1D)           (None, 100, 16)           8016      \n",
      "_________________________________________________________________\n",
      "max_pooling1d_31 (MaxPooling (None, 50, 16)            0         \n",
      "_________________________________________________________________\n",
      "dropout_42 (Dropout)         (None, 50, 16)            0         \n",
      "_________________________________________________________________\n",
      "conv1d_32 (Conv1D)           (None, 50, 64)            4160      \n",
      "_________________________________________________________________\n",
      "max_pooling1d_32 (MaxPooling (None, 25, 64)            0         \n",
      "_________________________________________________________________\n",
      "dropout_43 (Dropout)         (None, 25, 64)            0         \n",
      "_________________________________________________________________\n",
      "conv1d_33 (Conv1D)           (None, 25, 64)            12352     \n",
      "_________________________________________________________________\n",
      "max_pooling1d_33 (MaxPooling (None, 12, 64)            0         \n",
      "_________________________________________________________________\n",
      "dropout_44 (Dropout)         (None, 12, 64)            0         \n",
      "_________________________________________________________________\n",
      "flatten_11 (Flatten)         (None, 768)               0         \n",
      "_________________________________________________________________\n",
      "dense_21 (Dense)             (None, 512)               393728    \n",
      "_________________________________________________________________\n",
      "dense_22 (Dense)             (None, 1)                 513       \n",
      "=================================================================\n",
      "Total params: 5,004,569\n",
      "Trainable params: 418,769\n",
      "Non-trainable params: 4,585,800\n",
      "_________________________________________________________________\n",
      "Train on 32000 samples, validate on 8000 samples\n",
      "Epoch 1/10\n",
      "32000/32000 [==============================] - 4s 131us/step - loss: 0.5501 - accuracy: 0.7651 - val_loss: 0.5447 - val_accuracy: 0.7665\n",
      "Epoch 2/10\n",
      "32000/32000 [==============================] - 3s 98us/step - loss: 0.5417 - accuracy: 0.7688 - val_loss: 0.5438 - val_accuracy: 0.7665\n",
      "Epoch 3/10\n",
      "32000/32000 [==============================] - 3s 99us/step - loss: 0.5400 - accuracy: 0.7696 - val_loss: 0.5429 - val_accuracy: 0.7665\n",
      "Epoch 4/10\n",
      "32000/32000 [==============================] - 3s 99us/step - loss: 0.5403 - accuracy: 0.7697 - val_loss: 0.5431 - val_accuracy: 0.7665\n",
      "Epoch 5/10\n",
      "32000/32000 [==============================] - 3s 101us/step - loss: 0.5396 - accuracy: 0.7697 - val_loss: 0.5447 - val_accuracy: 0.7665\n",
      "Epoch 6/10\n",
      "32000/32000 [==============================] - 3s 100us/step - loss: 0.5388 - accuracy: 0.7697 - val_loss: 0.5429 - val_accuracy: 0.7665\n",
      "Epoch 7/10\n",
      "32000/32000 [==============================] - 3s 101us/step - loss: 0.5392 - accuracy: 0.7698 - val_loss: 0.5417 - val_accuracy: 0.7665\n",
      "Epoch 8/10\n",
      "32000/32000 [==============================] - 3s 98us/step - loss: 0.5392 - accuracy: 0.7697 - val_loss: 0.5429 - val_accuracy: 0.7665\n",
      "Epoch 9/10\n",
      "32000/32000 [==============================] - 3s 100us/step - loss: 0.5387 - accuracy: 0.7696 - val_loss: 0.5420 - val_accuracy: 0.7665\n",
      "Epoch 10/10\n",
      "32000/32000 [==============================] - 3s 97us/step - loss: 0.5387 - accuracy: 0.7698 - val_loss: 0.5429 - val_accuracy: 0.7665\n",
      "10000/10000 [==============================] - 0s 36us/step\n"
     ]
    },
    {
     "data": {
      "image/png": "[encoded data removed]",
      "text/plain": [
       "<Figure size 432x288 with 1 Axes>"
      ]
     },
     "metadata": {
      "needs_background": "light"
     },
     "output_type": "display_data"
    },
    {
     "data": {
      "image/png": "[encoded data removed]",
      "text/plain": [
       "<Figure size 432x288 with 1 Axes>"
      ]
     },
     "metadata": {
      "needs_background": "light"
     },
     "output_type": "display_data"
    },
    {
     "name": "stdout",
     "output_type": "stream",
     "text": [
      "\n",
      "Test loss: 0.544\n",
      "Test accuracy: 0.765\n"
     ]
    }
   ],
   "source": [
    "model2 = create(tokenizer,embedding_matrix)\n",
    "evaluate(model2,x_train,y_train,x_test,y_test,batch_size=128,epochs=10)"
   ]
  },
  {
   "cell_type": "code",
   "execution_count": null,
   "metadata": {},
   "outputs": [],
   "source": []
  }
 ],
 "metadata": {
  "kernelspec": {
   "display_name": "Python 3",
   "language": "python",
   "name": "python3"
  },
  "language_info": {
   "codemirror_mode": {
    "name": "ipython",
    "version": 3
   },
   "file_extension": ".py",
   "mimetype": "text/x-python",
   "name": "python",
   "nbconvert_exporter": "python",
   "pygments_lexer": "ipython3",
   "version": "3.6.9"
  }
 },
 "nbformat": 4,
 "nbformat_minor": 2
}
